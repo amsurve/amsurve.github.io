{
  "nbformat": 4,
  "nbformat_minor": 0,
  "metadata": {
    "colab": {
      "name": "Nth_prime_number.ipynb",
      "provenance": [],
      "collapsed_sections": [],
      "include_colab_link": true
    },
    "kernelspec": {
      "name": "python3",
      "display_name": "Python 3"
    }
  },
  "cells": [
    {
      "cell_type": "markdown",
      "metadata": {
        "id": "view-in-github",
        "colab_type": "text"
      },
      "source": [
        "<a href=\"https://colab.research.google.com/github/amsurve/amsurve.github.io/blob/master/class_assignments/Nth_prime_number.ipynb\" target=\"_parent\"><img src=\"https://colab.research.google.com/assets/colab-badge.svg\" alt=\"Open In Colab\"/></a>"
      ]
    },
    {
      "cell_type": "code",
      "metadata": {
        "id": "9cOKJ-KrW4vQ",
        "colab_type": "code",
        "colab": {}
      },
      "source": [
        "def check_prime(x):\n",
        "    \"\"\"returns 1 if x is a prime number\"\"\"\n",
        "    for i in range(2,int(x**0.5)+1):\n",
        "        if x%i == 0:\n",
        "            return 0\n",
        "    return 1"
      ],
      "execution_count": 0,
      "outputs": []
    },
    {
      "cell_type": "code",
      "metadata": {
        "id": "Nu6K_6ZIW1pm",
        "colab_type": "code",
        "colab": {}
      },
      "source": [
        "def n_prime(n):\n",
        "    \"\"\"returns nth prime number\"\"\"\n",
        "    if n == 0:\n",
        "        return 0\n",
        "    elif n == 1:\n",
        "        return 2\n",
        "    else:\n",
        "        c = 1\n",
        "        x = 2\n",
        "        while c <n:\n",
        "            x +=1\n",
        "            if check_prime(x):\n",
        "                c +=1\n",
        "            else:\n",
        "                continue\n",
        "    return x"
      ],
      "execution_count": 0,
      "outputs": []
    },
    {
      "cell_type": "code",
      "metadata": {
        "id": "AbWm6ZaoDdUJ",
        "colab_type": "code",
        "colab": {
          "base_uri": "https://localhost:8080/",
          "height": 54
        },
        "outputId": "f4920db4-4076-40ac-c353-54d3fdf53d94"
      },
      "source": [
        "print(n_prime(3))"
      ],
      "execution_count": 4,
      "outputs": [
        {
          "output_type": "stream",
          "text": [
            "5\n"
          ],
          "name": "stdout"
        }
      ]
    },
    {
      "cell_type": "code",
      "metadata": {
        "id": "2T-iXJ-eW6z4",
        "colab_type": "code",
        "outputId": "26e9a099-f939-4ed5-e696-5575c0bc3b3b",
        "colab": {
          "base_uri": "https://localhost:8080/",
          "height": 54
        }
      },
      "source": [
        "print(n_prime(560))"
      ],
      "execution_count": 5,
      "outputs": [
        {
          "output_type": "stream",
          "text": [
            "4057\n"
          ],
          "name": "stdout"
        }
      ]
    }
  ]
}